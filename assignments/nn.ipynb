{
 "cells": [
  {
   "cell_type": "markdown",
   "metadata": {},
   "source": [
    "# Mandatory Assignment 1\n",
    "\n",
    "#### Part I: Multi-layer Perceptron\n",
    "\n",
    "***\n",
    "\n",
    "Please see the description of the assignment in the README file (section 1) <br>\n",
    "**Guide notebook**: [material/nns_pytorch.ipynb](material/nns_pytorch.ipynb)\n",
    "\n",
    "Table of contents:\n",
    "1. Activate GPU\n",
    "2. Load data\n",
    "3. Inspect data\n",
    "4. Artificial neural network (**Where you will implement the ANN**)\n",
    "5. Training hyperparameters (**Where you will add training parameters**)\n",
    "6. Training\n",
    "7. Plot loss and accuracy\n",
    "8. Evaluate\n"
   ]
  },
  {
   "cell_type": "code",
   "execution_count": 2,
   "metadata": {},
   "outputs": [],
   "source": [
    "# auxilary imports\n",
    "import random\n",
    "import matplotlib.pyplot as plt\n",
    "import os\n",
    "from pathlib import Path\n",
    "\n",
    "# pytorch\n",
    "import torch\n",
    "import torch.nn as nn\n",
    "from torchvision import transforms\n",
    "import torch.nn.functional as F  # noqa"
   ]
  },
  {
   "cell_type": "markdown",
   "metadata": {},
   "source": [
    "First, a bit of a hack in case your IDE wants to run the notebook from /`assignment/` and not the project root folder `/ma1`. We need the working directory to be `/ma1` for local imports to work."
   ]
  },
  {
   "cell_type": "code",
   "execution_count": 3,
   "metadata": {},
   "outputs": [
    {
     "name": "stdout",
     "output_type": "stream",
     "text": [
      "Working directory set to: c:\\Users\\Teitur\\Desktop\\OneDrive\\CBS_notater\\8_semester\\AIML25\\mas\\ma1\n"
     ]
    }
   ],
   "source": [
    "# Ensure the working directory is set to the \"ma1\" folder.\n",
    "while Path.cwd().name != \"ma1\" and \"ma1\" in str(Path.cwd()):\n",
    "    os.chdir(\"..\")  # Move up one directory\n",
    "print(f\"Working directory set to: {Path.cwd()}\")"
   ]
  },
  {
   "cell_type": "markdown",
   "metadata": {},
   "source": [
    "##### Import local files\n",
    "\n",
    "To declutter the notebooks, your are given a module (`/src`) of useful functions. Please study each one as they contain important code (particularly `src.training` and `src.evaluation`). "
   ]
  },
  {
   "cell_type": "code",
   "execution_count": 4,
   "metadata": {},
   "outputs": [],
   "source": [
    "# local files\n",
    "from src.utils import get_device\n",
    "from src.data import load_torch_data, to_dataloader, train_val_split\n",
    "from src.training import fit\n",
    "from src.evaluation import evaluate \n",
    "from src.visualize import plot_training_history"
   ]
  },
  {
   "cell_type": "markdown",
   "metadata": {},
   "source": [
    "### 1. Activate GPU\n",
    "If available. Note that this is not necessary, but it will speed up your training."
   ]
  },
  {
   "cell_type": "code",
   "execution_count": 5,
   "metadata": {},
   "outputs": [
    {
     "name": "stdout",
     "output_type": "stream",
     "text": [
      "Running pytorch version (2.5.1) with backend = cpu\n"
     ]
    }
   ],
   "source": [
    "# Device will determine whether to run the training on GPU or CPU.\n",
    "DEVICE = get_device()"
   ]
  },
  {
   "cell_type": "markdown",
   "metadata": {},
   "source": [
    "### 2. Load data"
   ]
  },
  {
   "cell_type": "code",
   "execution_count": 6,
   "metadata": {},
   "outputs": [
    {
     "name": "stdout",
     "output_type": "stream",
     "text": [
      "Downloading http://yann.lecun.com/exdb/mnist/train-images-idx3-ubyte.gz\n",
      "Failed to download (trying next):\n",
      "HTTP Error 404: Not Found\n",
      "\n",
      "Downloading https://ossci-datasets.s3.amazonaws.com/mnist/train-images-idx3-ubyte.gz\n",
      "Downloading https://ossci-datasets.s3.amazonaws.com/mnist/train-images-idx3-ubyte.gz to data\\MNIST\\raw\\train-images-idx3-ubyte.gz\n"
     ]
    },
    {
     "name": "stderr",
     "output_type": "stream",
     "text": [
      "100%|██████████| 9.91M/9.91M [00:03<00:00, 2.54MB/s]\n"
     ]
    },
    {
     "name": "stdout",
     "output_type": "stream",
     "text": [
      "Extracting data\\MNIST\\raw\\train-images-idx3-ubyte.gz to data\\MNIST\\raw\n",
      "\n",
      "Downloading http://yann.lecun.com/exdb/mnist/train-labels-idx1-ubyte.gz\n",
      "Failed to download (trying next):\n",
      "HTTP Error 404: Not Found\n",
      "\n",
      "Downloading https://ossci-datasets.s3.amazonaws.com/mnist/train-labels-idx1-ubyte.gz\n",
      "Downloading https://ossci-datasets.s3.amazonaws.com/mnist/train-labels-idx1-ubyte.gz to data\\MNIST\\raw\\train-labels-idx1-ubyte.gz\n"
     ]
    },
    {
     "name": "stderr",
     "output_type": "stream",
     "text": [
      "100%|██████████| 28.9k/28.9k [00:00<00:00, 282kB/s]\n"
     ]
    },
    {
     "name": "stdout",
     "output_type": "stream",
     "text": [
      "Extracting data\\MNIST\\raw\\train-labels-idx1-ubyte.gz to data\\MNIST\\raw\n",
      "\n",
      "Downloading http://yann.lecun.com/exdb/mnist/t10k-images-idx3-ubyte.gz\n",
      "Failed to download (trying next):\n",
      "HTTP Error 404: Not Found\n",
      "\n",
      "Downloading https://ossci-datasets.s3.amazonaws.com/mnist/t10k-images-idx3-ubyte.gz\n",
      "Downloading https://ossci-datasets.s3.amazonaws.com/mnist/t10k-images-idx3-ubyte.gz to data\\MNIST\\raw\\t10k-images-idx3-ubyte.gz\n"
     ]
    },
    {
     "name": "stderr",
     "output_type": "stream",
     "text": [
      "100%|██████████| 1.65M/1.65M [00:00<00:00, 1.97MB/s]\n"
     ]
    },
    {
     "name": "stdout",
     "output_type": "stream",
     "text": [
      "Extracting data\\MNIST\\raw\\t10k-images-idx3-ubyte.gz to data\\MNIST\\raw\n",
      "\n",
      "Downloading http://yann.lecun.com/exdb/mnist/t10k-labels-idx1-ubyte.gz\n",
      "Failed to download (trying next):\n",
      "HTTP Error 404: Not Found\n",
      "\n",
      "Downloading https://ossci-datasets.s3.amazonaws.com/mnist/t10k-labels-idx1-ubyte.gz\n",
      "Downloading https://ossci-datasets.s3.amazonaws.com/mnist/t10k-labels-idx1-ubyte.gz to data\\MNIST\\raw\\t10k-labels-idx1-ubyte.gz\n"
     ]
    },
    {
     "name": "stderr",
     "output_type": "stream",
     "text": [
      "100%|██████████| 4.54k/4.54k [00:00<00:00, 4.55MB/s]"
     ]
    },
    {
     "name": "stdout",
     "output_type": "stream",
     "text": [
      "Extracting data\\MNIST\\raw\\t10k-labels-idx1-ubyte.gz to data\\MNIST\\raw\n",
      "\n"
     ]
    },
    {
     "name": "stderr",
     "output_type": "stream",
     "text": [
      "\n"
     ]
    },
    {
     "data": {
      "text/plain": [
       "'len(train_val)=60000, len(test)=10000'"
      ]
     },
     "execution_count": 6,
     "metadata": {},
     "output_type": "execute_result"
    }
   ],
   "source": [
    "# load the training/validation data\n",
    "train_val = load_torch_data(\n",
    "    dataset=\"MNIST\",\n",
    "    root = 'data',                     # The root directory where the dataset will be stored\n",
    "    download = True,                   # If the dataset is not found at root, it will be downloaded\n",
    "    train = True,                      # The train dataset (as opposed to the test dataset)\n",
    "    transform = transforms.ToTensor()  # transformations to be applied to the dataset (only cast to tensor)\n",
    ")\n",
    "\n",
    "# load the testing data\n",
    "test = load_torch_data(\n",
    "    dataset = \"MNIST\",\n",
    "    root = 'data',\n",
    "    download = True,\n",
    "    train = False,\n",
    "    transform = transforms.ToTensor()\n",
    ")\n",
    "\n",
    "f\"{len(train_val)=}, {len(test)=}\""
   ]
  },
  {
   "cell_type": "code",
   "execution_count": 7,
   "metadata": {},
   "outputs": [
    {
     "data": {
      "text/plain": [
       "'len(val)=12000, len(train)=48000'"
      ]
     },
     "execution_count": 7,
     "metadata": {},
     "output_type": "execute_result"
    }
   ],
   "source": [
    "# split training data in training and validation (just like train_test_split in sklearn)\n",
    "train, val = train_val_split(train_val, val_ratio=0.2, seed=42)\n",
    "\n",
    "f\"{len(val)=}, {len(train)=}\""
   ]
  },
  {
   "cell_type": "code",
   "execution_count": 8,
   "metadata": {},
   "outputs": [],
   "source": [
    "# create dataloders for easy batch loading during training\n",
    "train_loader = to_dataloader(train, batch_size = 64, shuffle = True)\n",
    "val_loader = to_dataloader(val, batch_size = 64, shuffle = False)\n",
    "test_loader = to_dataloader(test, batch_size = 64, shuffle = False)"
   ]
  },
  {
   "cell_type": "markdown",
   "metadata": {},
   "source": [
    "### 3. Inspect data"
   ]
  },
  {
   "cell_type": "code",
   "execution_count": 9,
   "metadata": {},
   "outputs": [
    {
     "name": "stdout",
     "output_type": "stream",
     "text": [
      "Default image shape: torch.Size([1, 28, 28])\n",
      "Reshaped image shape: torch.Size([28, 28])\n",
      "Total pixels: 784\n",
      "The label for this image: 3\n"
     ]
    },
    {
     "data": {
      "image/png": "[encoded data removed]",
      "text/plain": [
       "<Figure size 640x480 with 1 Axes>"
      ]
     },
     "metadata": {},
     "output_type": "display_data"
    }
   ],
   "source": [
    "# Pick a random example from the training set\n",
    "selection = random.randrange(len(train)-1)\n",
    "image, label = train[selection]\n",
    "\n",
    "# Plot the image\n",
    "print(f\"Default image shape: {image.shape}\")\n",
    "image = image.view([28,28])\n",
    "\n",
    "print(f\"Reshaped image shape: {image.shape}\")\n",
    "plt.imshow(image, cmap=\"gray\")\n",
    "\n",
    "print(f\"Total pixels: {image.shape[0] * image.shape[1]}\")\n",
    "\n",
    "# Print the label\n",
    "print(f\"The label for this image: {label}\")\n"
   ]
  },
  {
   "cell_type": "markdown",
   "metadata": {},
   "source": [
    "***\n",
    "\n",
    "### 4. Artificial neural network"
   ]
  },
  {
   "cell_type": "code",
   "execution_count": 12,
   "metadata": {},
   "outputs": [],
   "source": [
    "class MLP(nn.Module):\n",
    "\n",
    "  def __init__(self):\n",
    "    super().__init__()\n",
    "\n",
    "    self.fc1 = nn.Linear(784, 500)  # Input -> Hidden layer\n",
    "    self.relu = nn.ReLU()           # Activation function\n",
    "    self.fc2 = nn.Linear(500, 10)   # Hidden -> Output layer\n",
    "    \n",
    "  \n",
    "  def forward(self, x : torch.Tensor):\n",
    "\n",
    "    x = x.view(-1, 784)  # Flatten 28x28 images\n",
    "    x = self.fc1(x)\n",
    "    x = self.relu(x)\n",
    "    x = self.fc2(x)\n",
    "\n",
    "    return x"
   ]
  },
  {
   "cell_type": "markdown",
   "metadata": {},
   "source": [
    "### 5. Training hyperparameters"
   ]
  },
  {
   "cell_type": "code",
   "execution_count": 14,
   "metadata": {},
   "outputs": [],
   "source": [
    "LR = 0.01  # TODO: define the learning rate\n",
    "NUM_EPOCHS = 20 # TODO: define the number of epochs (i.e. passes over the dataset)\n",
    "criterion = nn.CrossEntropyLoss()  # The loss function"
   ]
  },
  {
   "cell_type": "markdown",
   "metadata": {},
   "source": [
    "Instantiate the model and optimizer"
   ]
  },
  {
   "cell_type": "code",
   "execution_count": 15,
   "metadata": {},
   "outputs": [],
   "source": [
    "model = MLP().to(DEVICE)   # Create an instance of the MLP model and move it to device (GPU or CPU)\n",
    "optimizer = torch.optim.SGD(model.parameters(), lr=LR) # The optimizer (here, SGD - you can also try ADAM)"
   ]
  },
  {
   "cell_type": "code",
   "execution_count": 16,
   "metadata": {},
   "outputs": [
    {
     "data": {
      "text/plain": [
       "MLP(\n",
       "  (fc1): Linear(in_features=784, out_features=500, bias=True)\n",
       "  (relu): ReLU()\n",
       "  (fc2): Linear(in_features=500, out_features=10, bias=True)\n",
       ")"
      ]
     },
     "execution_count": 16,
     "metadata": {},
     "output_type": "execute_result"
    }
   ],
   "source": [
    "model"
   ]
  },
  {
   "cell_type": "markdown",
   "metadata": {},
   "source": [
    "### 6. Training"
   ]
  },
  {
   "cell_type": "code",
   "execution_count": 17,
   "metadata": {},
   "outputs": [
    {
     "name": "stdout",
     "output_type": "stream",
     "text": [
      "Epoch [1/20]: Train Loss: 1.3367 | Train Accuracy: 72.81% | Val Loss: 0.6906 | Val Accuracy: 84.83%\n",
      "Epoch [2/20]: Train Loss: 0.5393 | Train Accuracy: 86.81% | Val Loss: 0.4651 | Val Accuracy: 88.17%\n",
      "Epoch [3/20]: Train Loss: 0.4149 | Train Accuracy: 88.97% | Val Loss: 0.3996 | Val Accuracy: 89.26%\n",
      "Epoch [4/20]: Train Loss: 0.3664 | Train Accuracy: 89.86% | Val Loss: 0.3661 | Val Accuracy: 89.83%\n",
      "Epoch [5/20]: Train Loss: 0.3380 | Train Accuracy: 90.56% | Val Loss: 0.3444 | Val Accuracy: 90.31%\n",
      "Epoch [6/20]: Train Loss: 0.3184 | Train Accuracy: 91.06% | Val Loss: 0.3287 | Val Accuracy: 90.64%\n",
      "Epoch [7/20]: Train Loss: 0.3026 | Train Accuracy: 91.48% | Val Loss: 0.3158 | Val Accuracy: 91.03%\n",
      "Epoch [8/20]: Train Loss: 0.2895 | Train Accuracy: 91.85% | Val Loss: 0.3042 | Val Accuracy: 91.42%\n",
      "Epoch [9/20]: Train Loss: 0.2779 | Train Accuracy: 92.18% | Val Loss: 0.2938 | Val Accuracy: 91.63%\n",
      "Epoch [10/20]: Train Loss: 0.2673 | Train Accuracy: 92.51% | Val Loss: 0.2850 | Val Accuracy: 92.07%\n",
      "Epoch [11/20]: Train Loss: 0.2578 | Train Accuracy: 92.79% | Val Loss: 0.2761 | Val Accuracy: 92.22%\n",
      "Epoch [12/20]: Train Loss: 0.2491 | Train Accuracy: 93.09% | Val Loss: 0.2682 | Val Accuracy: 92.41%\n",
      "Epoch [13/20]: Train Loss: 0.2409 | Train Accuracy: 93.32% | Val Loss: 0.2602 | Val Accuracy: 92.81%\n",
      "Epoch [14/20]: Train Loss: 0.2331 | Train Accuracy: 93.53% | Val Loss: 0.2545 | Val Accuracy: 92.89%\n",
      "Epoch [15/20]: Train Loss: 0.2262 | Train Accuracy: 93.78% | Val Loss: 0.2477 | Val Accuracy: 93.19%\n",
      "Epoch [16/20]: Train Loss: 0.2194 | Train Accuracy: 93.93% | Val Loss: 0.2413 | Val Accuracy: 93.29%\n",
      "Epoch [17/20]: Train Loss: 0.2130 | Train Accuracy: 94.10% | Val Loss: 0.2362 | Val Accuracy: 93.45%\n",
      "Epoch [18/20]: Train Loss: 0.2069 | Train Accuracy: 94.31% | Val Loss: 0.2300 | Val Accuracy: 93.59%\n",
      "Epoch [19/20]: Train Loss: 0.2011 | Train Accuracy: 94.47% | Val Loss: 0.2246 | Val Accuracy: 93.67%\n",
      "Epoch [20/20]: Train Loss: 0.1955 | Train Accuracy: 94.59% | Val Loss: 0.2202 | Val Accuracy: 93.79%\n"
     ]
    }
   ],
   "source": [
    "model, history = fit(\n",
    "    model,\n",
    "    train_loader = train_loader,\n",
    "    val_loader = val_loader,\n",
    "    device = DEVICE,\n",
    "    optimizer = optimizer,\n",
    "    criterion = criterion,\n",
    "    num_epochs = NUM_EPOCHS\n",
    ")"
   ]
  },
  {
   "cell_type": "markdown",
   "metadata": {},
   "source": [
    "### 7. Plot loss and accuracy"
   ]
  },
  {
   "cell_type": "code",
   "execution_count": 18,
   "metadata": {},
   "outputs": [
    {
     "data": {
      "image/png": "[encoded data removed]",
      "text/plain": [
       "<Figure size 1200x600 with 2 Axes>"
      ]
     },
     "metadata": {},
     "output_type": "display_data"
    }
   ],
   "source": [
    "plot_training_history(history)"
   ]
  },
  {
   "cell_type": "markdown",
   "metadata": {},
   "source": [
    "### 8. Evaluate"
   ]
  },
  {
   "cell_type": "code",
   "execution_count": 19,
   "metadata": {},
   "outputs": [
    {
     "name": "stdout",
     "output_type": "stream",
     "text": [
      "Evaluation Results:\n",
      "Loss: 0.1921, Accuracy: 94.72%\n",
      "\n",
      "Classification Report:\n",
      "              precision    recall  f1-score   support\n",
      "\n",
      "           0       0.97      0.98      0.97      4735\n",
      "           1       0.96      0.98      0.97      5383\n",
      "           2       0.94      0.94      0.94      4762\n",
      "           3       0.94      0.93      0.93      4886\n",
      "           4       0.93      0.96      0.94      4681\n",
      "           5       0.93      0.93      0.93      4368\n",
      "           6       0.96      0.97      0.96      4752\n",
      "           7       0.95      0.96      0.96      4983\n",
      "           8       0.94      0.91      0.93      4674\n",
      "           9       0.94      0.93      0.93      4776\n",
      "\n",
      "    accuracy                           0.95     48000\n",
      "   macro avg       0.95      0.95      0.95     48000\n",
      "weighted avg       0.95      0.95      0.95     48000\n",
      "\n"
     ]
    }
   ],
   "source": [
    "evaluate(\n",
    "    model = model,\n",
    "    data_loader = train_loader,  # evaluate on training data\n",
    "    criterion = criterion,\n",
    "    device = DEVICE,\n",
    ")"
   ]
  },
  {
   "cell_type": "code",
   "execution_count": 20,
   "metadata": {},
   "outputs": [
    {
     "name": "stdout",
     "output_type": "stream",
     "text": [
      "Evaluation Results:\n",
      "Loss: 0.2202, Accuracy: 93.79%\n",
      "\n",
      "Classification Report:\n",
      "              precision    recall  f1-score   support\n",
      "\n",
      "           0       0.96      0.96      0.96      1188\n",
      "           1       0.96      0.97      0.97      1359\n",
      "           2       0.93      0.92      0.93      1196\n",
      "           3       0.92      0.93      0.92      1245\n",
      "           4       0.91      0.94      0.92      1161\n",
      "           5       0.93      0.94      0.93      1053\n",
      "           6       0.96      0.95      0.96      1166\n",
      "           7       0.94      0.96      0.95      1282\n",
      "           8       0.94      0.92      0.93      1177\n",
      "           9       0.92      0.89      0.90      1173\n",
      "\n",
      "    accuracy                           0.94     12000\n",
      "   macro avg       0.94      0.94      0.94     12000\n",
      "weighted avg       0.94      0.94      0.94     12000\n",
      "\n"
     ]
    }
   ],
   "source": [
    "evaluate(\n",
    "    model = model,\n",
    "    data_loader = val_loader,  # evaluate on validation data\n",
    "    criterion = criterion,\n",
    "    device = DEVICE,\n",
    ")"
   ]
  },
  {
   "cell_type": "code",
   "execution_count": 21,
   "metadata": {},
   "outputs": [
    {
     "name": "stdout",
     "output_type": "stream",
     "text": [
      "Evaluation Results:\n",
      "Loss: 0.1957, Accuracy: 94.50%\n",
      "\n",
      "Classification Report:\n",
      "              precision    recall  f1-score   support\n",
      "\n",
      "           0       0.95      0.98      0.97       980\n",
      "           1       0.97      0.98      0.98      1135\n",
      "           2       0.94      0.94      0.94      1032\n",
      "           3       0.92      0.95      0.94      1010\n",
      "           4       0.93      0.96      0.94       982\n",
      "           5       0.94      0.92      0.93       892\n",
      "           6       0.94      0.95      0.95       958\n",
      "           7       0.94      0.94      0.94      1028\n",
      "           8       0.95      0.91      0.93       974\n",
      "           9       0.95      0.92      0.93      1009\n",
      "\n",
      "    accuracy                           0.94     10000\n",
      "   macro avg       0.94      0.94      0.94     10000\n",
      "weighted avg       0.95      0.94      0.94     10000\n",
      "\n"
     ]
    }
   ],
   "source": [
    "evaluate(\n",
    "    model = model,\n",
    "    data_loader = test_loader,  # evaluate on testing data\n",
    "    criterion = criterion,\n",
    "    device = DEVICE,\n",
    ")"
   ]
  },
  {
   "cell_type": "code",
   "execution_count": null,
   "metadata": {},
   "outputs": [],
   "source": []
  }
 ],
 "metadata": {
  "kernelspec": {
   "display_name": "base",
   "language": "python",
   "name": "python3"
  },
  "language_info": {
   "codemirror_mode": {
    "name": "ipython",
    "version": 3
   },
   "file_extension": ".py",
   "mimetype": "text/x-python",
   "name": "python",
   "nbconvert_exporter": "python",
   "pygments_lexer": "ipython3",
   "version": "3.12.7"
  }
 },
 "nbformat": 4,
 "nbformat_minor": 2
}
